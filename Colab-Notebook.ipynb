{
  "cells": [
    {
      "cell_type": "code",
      "source": [
        "from google.colab import drive\n",
        "drive.mount('/content/drive')"
      ],
      "metadata": {
        "id": "fk0qHEJXM0Wx"
      },
      "id": "fk0qHEJXM0Wx",
      "execution_count": null,
      "outputs": []
    },
    {
      "cell_type": "code",
      "source": [
        "# Run this to setup the files and requirements\n",
        "\n",
        "%cd /content\n",
        "\n",
        "# Uncomment this line to update the code\n",
        "#%rm -rf qr\n",
        "\n",
        "!git clone https://github.com/linobigatti/quadrantrecon qr\n",
        "%cd qr\n",
        "!git submodule update --init --recursive\n",
        "\n",
        "!pip install -r ./requirements.txt\n",
        "!pip install -r ./requirements-torch.txt\n",
        "\n",
        "!wget -nc https://dl.fbaipublicfiles.com/segment_anything/sam_vit_h_4b8939.pth\n",
        "\n",
        "%matplotlib inline"
      ],
      "metadata": {
        "id": "qiddTUVgMcld"
      },
      "id": "qiddTUVgMcld",
      "execution_count": null,
      "outputs": []
    },
    {
      "cell_type": "code",
      "execution_count": null,
      "id": "e9ac6cca-bc50-4a61-b4a5-3ff45540804c",
      "metadata": {
        "id": "e9ac6cca-bc50-4a61-b4a5-3ff45540804c"
      },
      "outputs": [],
      "source": [
        "%cd /content/qr\n",
        "\n",
        "import main as quadrantrecon\n",
        "import os\n",
        "\n",
        "# Load default arguments\n",
        "qr = quadrantrecon.QuadrantRecon()"
      ]
    },
    {
      "cell_type": "code",
      "execution_count": null,
      "id": "c87a4769-f02c-44b8-9ef6-fdc80146f4b2",
      "metadata": {
        "id": "c87a4769-f02c-44b8-9ef6-fdc80146f4b2"
      },
      "outputs": [],
      "source": [
        "# Set options (defaults are commented out)\n",
        "qr.output_path = \"/content/drive/MyDrive/foto-cuadrantes-patagonia/fotos-recortadas/\"\n",
        "qr.verbose = True\n",
        "#qr.plot = False\n",
        "#qr.force = False\n",
        "#qr.dry_run = False\n",
        "#qr.device = \"cuda\"\n",
        "qr.model_path = \"sam_vit_h_4b8939.pth\"\n",
        "#qr.model_type = \"vit_h\"\n",
        "#qr.width = 1700\n",
        "#qr.height = 1700\n",
        "#qr.padding_width = 45\n",
        "#qr.padding_height = 45\n",
        "\n",
        "# Set files to process\n",
        "files = [\n",
        "    \"/content/drive/MyDrive/punta-Buenos-Aires/2023-04-14/Sitio 1- Playa diente de tiburon/ALTA/AMP50183.JPG\",\n",
        "    \"/content/drive/MyDrive/punta-Buenos-Aires/2023-04-14/Sitio 1- Playa diente de tiburon/ALTA/AMP50184.JPG\",\n",
        "    \"/content/drive/MyDrive/punta-Buenos-Aires/2023-04-14/Sitio 1- Playa diente de tiburon/BAJA/AMP50048.JPG\",\n",
        "    \"/content/drive/MyDrive/punta-Buenos-Aires/2023-04-14/Sitio 1- Playa diente de tiburon/MEDIA/AMP50116.JPG\",\n",
        "    \"/content/drive/MyDrive/isla-pinguino/2023-04-17/sitio 1 Faro Punta Medanosa/AMP70004.JPG\",\n",
        "    \"/content/drive/MyDrive/punta-Buenos-Aires/2023-04-14/Sitio 2- Restinga/BAJA/AMP50293.JPG\",\n",
        "    \"/content/drive/MyDrive/isla-pinguino/2024-04-12/Sitio 3/Estrato Medio Sitio 3/AMP71436.JPG\",\n",
        "]\n",
        "\n",
        "# Or, alternatively, select all files from a folder\n",
        "folder = None\n",
        "#folder = \"/content/drive/MyDrive/foto-cuadrantes-patagonia/monitoreos/punta-Buenos-Aires\""
      ]
    },
    {
      "cell_type": "code",
      "execution_count": null,
      "id": "9b8c3a52-d657-4f07-bff3-023c7345254e",
      "metadata": {
        "id": "9b8c3a52-d657-4f07-bff3-023c7345254e"
      },
      "outputs": [],
      "source": [
        "# Load model into the GPU\n",
        "qr.create_predictor()"
      ]
    },
    {
      "cell_type": "code",
      "source": [
        "bad_files = []\n",
        "process_c = 0\n",
        "\n",
        "# Process images\n",
        "if not folder:\n",
        "    for filename in files:\n",
        "        valid = qr.process_image(filename)\n",
        "\n",
        "        if valid == -1:\n",
        "            bad_files.append(filename)\n",
        "\n",
        "        if valid == 0:\n",
        "          process_c += 1\n",
        "else:\n",
        "    if folder:\n",
        "        files = []\n",
        "\n",
        "        for root, dirs, files in os.walk(folder):\n",
        "            for f in files:\n",
        "              if \"JPG\" in f:\n",
        "                valid = qr.process_image(os.path.join(root, f), folder)\n",
        "\n",
        "                if valid == -1:\n",
        "                    bad_files.append(os.path.join(root, f))\n",
        "\n",
        "                if valid == 0:\n",
        "                    process_c += 1\n",
        "\n",
        "print(f\"Processed {process_c} files correctly. Detected errors on {len(bad_files)} files.\")"
      ],
      "metadata": {
        "id": "3hJXdzQNG-_Y"
      },
      "id": "3hJXdzQNG-_Y",
      "execution_count": null,
      "outputs": []
    }
  ],
  "metadata": {
    "kernelspec": {
      "display_name": "quadrantrecon",
      "language": "python",
      "name": "quadrantrecon"
    },
    "language_info": {
      "codemirror_mode": {
        "name": "ipython",
        "version": 3
      },
      "file_extension": ".py",
      "mimetype": "text/x-python",
      "name": "python",
      "nbconvert_exporter": "python",
      "pygments_lexer": "ipython3",
      "version": "3.12.3"
    },
    "colab": {
      "provenance": [],
      "gpuType": "T4"
    },
    "accelerator": "GPU"
  },
  "nbformat": 4,
  "nbformat_minor": 5
}
