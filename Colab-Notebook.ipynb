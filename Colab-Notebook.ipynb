{
  "cells": [
    {
      "cell_type": "code",
      "source": [
        "from google.colab import drive\n",
        "drive.mount('/content/drive')"
      ],
      "metadata": {
        "id": "fk0qHEJXM0Wx",
        "outputId": "5c3f53c8-aeab-479e-a133-2590e3b05052",
        "colab": {
          "base_uri": "https://localhost:8080/"
        }
      },
      "id": "fk0qHEJXM0Wx",
      "execution_count": 1,
      "outputs": [
        {
          "output_type": "stream",
          "name": "stdout",
          "text": [
            "Mounted at /content/drive\n"
          ]
        }
      ]
    },
    {
      "cell_type": "code",
      "source": [
        "# Run this to setup the files and requirements\n",
        "\n",
        "%cd /content\n",
        "\n",
        "# Uncomment this line to update the code\n",
        "%rm -rf qr\n",
        "\n",
        "!git clone https://github.com/linobigatti/quadrantrecon qr\n",
        "%cd qr\n",
        "!git submodule update --init --recursive\n",
        "\n",
        "!pip install -r ./requirements.txt\n",
        "!pip install -r ./requirements-torch.txt\n",
        "\n",
        "!wget -nc https://dl.fbaipublicfiles.com/segment_anything/sam_vit_h_4b8939.pth\n",
        "\n",
        "%matplotlib inline"
      ],
      "metadata": {
        "id": "qiddTUVgMcld",
        "outputId": "db18a6d9-8b99-407f-ca10-063b1eff6888",
        "colab": {
          "base_uri": "https://localhost:8080/"
        }
      },
      "id": "qiddTUVgMcld",
      "execution_count": 1,
      "outputs": [
        {
          "output_type": "stream",
          "name": "stdout",
          "text": [
            "/content\n",
            "Cloning into 'qr'...\n",
            "remote: Enumerating objects: 140, done.\u001b[K\n",
            "remote: Counting objects: 100% (140/140), done.\u001b[K\n",
            "remote: Compressing objects: 100% (100/100), done.\u001b[K\n",
            "remote: Total 140 (delta 79), reused 89 (delta 37), pack-reused 0 (from 0)\u001b[K\n",
            "Receiving objects: 100% (140/140), 111.30 KiB | 2.93 MiB/s, done.\n",
            "Resolving deltas: 100% (79/79), done.\n",
            "/content/qr\n",
            "Submodule 'sam' (https://github.com/facebookresearch/segment-anything) registered for path 'sam'\n",
            "Cloning into '/content/qr/sam'...\n",
            "Submodule path 'sam': checked out '6fdee8f2727f4506cfbbe553e23b895e27956588'\n",
            "Requirement already satisfied: attrs>=23.2.0 in /usr/local/lib/python3.11/dist-packages (from -r ./requirements.txt (line 1)) (24.3.0)\n",
            "Requirement already satisfied: autocommand>=2.2.2 in /usr/local/lib/python3.11/dist-packages (from -r ./requirements.txt (line 2)) (2.2.2)\n",
            "Requirement already satisfied: cffi>=1.16.0 in /usr/local/lib/python3.11/dist-packages (from -r ./requirements.txt (line 3)) (1.17.1)\n",
            "Requirement already satisfied: charset-normalizer>=3.3.2 in /usr/local/lib/python3.11/dist-packages (from -r ./requirements.txt (line 4)) (3.4.1)\n",
            "Requirement already satisfied: contourpy>=1.2.1 in /usr/local/lib/python3.11/dist-packages (from -r ./requirements.txt (line 5)) (1.3.1)\n",
            "Requirement already satisfied: cryptography>=42.0.5 in /usr/local/lib/python3.11/dist-packages (from -r ./requirements.txt (line 6)) (43.0.3)\n",
            "Requirement already satisfied: cycler>=0.12.1 in /usr/local/lib/python3.11/dist-packages (from -r ./requirements.txt (line 7)) (0.12.1)\n",
            "Requirement already satisfied: fastjsonschema>=2.19.1 in /usr/local/lib/python3.11/dist-packages (from -r ./requirements.txt (line 8)) (2.21.1)\n",
            "Requirement already satisfied: filelock>=3.14.0 in /usr/local/lib/python3.11/dist-packages (from -r ./requirements.txt (line 9)) (3.16.1)\n",
            "Requirement already satisfied: fonttools>=4.51.0 in /usr/local/lib/python3.11/dist-packages (from -r ./requirements.txt (line 10)) (4.55.3)\n",
            "Requirement already satisfied: fsspec>=2024.3.1 in /usr/local/lib/python3.11/dist-packages (from -r ./requirements.txt (line 11)) (2024.10.0)\n",
            "Requirement already satisfied: future>=1.0.0 in /usr/local/lib/python3.11/dist-packages (from -r ./requirements.txt (line 12)) (1.0.0)\n",
            "Requirement already satisfied: gmpy2>=2.2.0a1 in /usr/local/lib/python3.11/dist-packages (from -r ./requirements.txt (line 13)) (2.2.1)\n",
            "Requirement already satisfied: idna>=3.6 in /usr/local/lib/python3.11/dist-packages (from -r ./requirements.txt (line 14)) (3.10)\n",
            "Requirement already satisfied: inflect>=7.2.1 in /usr/local/lib/python3.11/dist-packages (from -r ./requirements.txt (line 15)) (7.5.0)\n",
            "Requirement already satisfied: jaraco.context>=4.3.0 in /usr/local/lib/python3.11/dist-packages (from -r ./requirements.txt (line 16)) (6.0.1)\n",
            "Requirement already satisfied: jaraco.functools>=4.0.0 in /usr/local/lib/python3.11/dist-packages (from -r ./requirements.txt (line 17)) (4.1.0)\n",
            "Requirement already satisfied: jaraco.text>=3.12.0 in /usr/local/lib/python3.11/dist-packages (from -r ./requirements.txt (line 18)) (4.0.0)\n",
            "Requirement already satisfied: Jinja2>=3.1.3 in /usr/local/lib/python3.11/dist-packages (from -r ./requirements.txt (line 19)) (3.1.5)\n",
            "Requirement already satisfied: kiwisolver>=1.4.5 in /usr/local/lib/python3.11/dist-packages (from -r ./requirements.txt (line 20)) (1.4.8)\n",
            "Requirement already satisfied: MarkupSafe>=2.1.5 in /usr/local/lib/python3.11/dist-packages (from -r ./requirements.txt (line 21)) (3.0.2)\n",
            "Requirement already satisfied: matplotlib>=3.8.4 in /usr/local/lib/python3.11/dist-packages (from -r ./requirements.txt (line 22)) (3.10.0)\n",
            "Requirement already satisfied: more-itertools>=10.2.0 in /usr/local/lib/python3.11/dist-packages (from -r ./requirements.txt (line 23)) (10.5.0)\n",
            "Requirement already satisfied: mpmath>=1.3.0 in /usr/local/lib/python3.11/dist-packages (from -r ./requirements.txt (line 24)) (1.3.0)\n",
            "Requirement already satisfied: networkx>=3.3 in /usr/local/lib/python3.11/dist-packages (from -r ./requirements.txt (line 25)) (3.4.2)\n",
            "Requirement already satisfied: numpy==1.26.4 in /usr/local/lib/python3.11/dist-packages (from -r ./requirements.txt (line 26)) (1.26.4)\n",
            "Requirement already satisfied: opencv-python>=4.9.0.80 in /usr/local/lib/python3.11/dist-packages (from -r ./requirements.txt (line 27)) (4.10.0.84)\n",
            "Requirement already satisfied: ordered-set>=4.1.0 in /usr/local/lib/python3.11/dist-packages (from -r ./requirements.txt (line 28)) (4.1.0)\n",
            "Requirement already satisfied: packaging>=24.0 in /usr/local/lib/python3.11/dist-packages (from -r ./requirements.txt (line 29)) (24.2)\n",
            "Requirement already satisfied: pandas>=1.5.3 in /usr/local/lib/python3.11/dist-packages (from -r ./requirements.txt (line 30)) (2.2.2)\n",
            "Requirement already satisfied: pillow>=10.3.0 in /usr/local/lib/python3.11/dist-packages (from -r ./requirements.txt (line 31)) (11.1.0)\n",
            "Requirement already satisfied: platformdirs>=4.2.0 in /usr/local/lib/python3.11/dist-packages (from -r ./requirements.txt (line 32)) (4.3.6)\n",
            "Requirement already satisfied: pooch>=1.8.1 in /usr/local/lib/python3.11/dist-packages (from -r ./requirements.txt (line 33)) (1.8.2)\n",
            "Requirement already satisfied: pybind11>=2.12.0 in /usr/local/lib/python3.11/dist-packages (from -r ./requirements.txt (line 34)) (2.13.6)\n",
            "Requirement already satisfied: pycparser>=2.22 in /usr/local/lib/python3.11/dist-packages (from -r ./requirements.txt (line 35)) (2.22)\n",
            "Requirement already satisfied: pyparsing>=3.1.2 in /usr/local/lib/python3.11/dist-packages (from -r ./requirements.txt (line 36)) (3.2.1)\n",
            "Requirement already satisfied: python-dateutil>=2.9.0.post0 in /usr/local/lib/python3.11/dist-packages (from -r ./requirements.txt (line 37)) (2.9.0.post0)\n",
            "Requirement already satisfied: pytz>=2024.1 in /usr/local/lib/python3.11/dist-packages (from -r ./requirements.txt (line 38)) (2024.2)\n",
            "Requirement already satisfied: PyYAML>=6.0.1 in /usr/local/lib/python3.11/dist-packages (from -r ./requirements.txt (line 39)) (6.0.2)\n",
            "Requirement already satisfied: requests>=2.31.0 in /usr/local/lib/python3.11/dist-packages (from -r ./requirements.txt (line 40)) (2.32.3)\n",
            "Requirement already satisfied: scipy>=1.13.0 in /usr/local/lib/python3.11/dist-packages (from -r ./requirements.txt (line 41)) (1.13.1)\n",
            "Requirement already satisfied: setuptools>=69.0.3 in /usr/local/lib/python3.11/dist-packages (from -r ./requirements.txt (line 42)) (75.1.0)\n",
            "Requirement already satisfied: six>=1.16.0 in /usr/local/lib/python3.11/dist-packages (from -r ./requirements.txt (line 43)) (1.17.0)\n",
            "Requirement already satisfied: smbus>=1.1 in /usr/local/lib/python3.11/dist-packages (from -r ./requirements.txt (line 44)) (1.1.post2)\n",
            "Requirement already satisfied: sympy>=1.12 in /usr/local/lib/python3.11/dist-packages (from -r ./requirements.txt (line 45)) (1.13.1)\n",
            "Requirement already satisfied: TBB>=0.2 in /usr/local/lib/python3.11/dist-packages (from -r ./requirements.txt (line 46)) (2022.0.0)\n",
            "Requirement already satisfied: tomli>=2.0.1 in /usr/local/lib/python3.11/dist-packages (from -r ./requirements.txt (line 47)) (2.2.1)\n",
            "Requirement already satisfied: trove-classifiers>=2024.4.10 in /usr/local/lib/python3.11/dist-packages (from -r ./requirements.txt (line 48)) (2025.1.15.22)\n",
            "Requirement already satisfied: typeguard>=4.2.1 in /usr/local/lib/python3.11/dist-packages (from -r ./requirements.txt (line 49)) (4.4.1)\n",
            "Requirement already satisfied: typing_extensions>=4.11.0 in /usr/local/lib/python3.11/dist-packages (from -r ./requirements.txt (line 50)) (4.12.2)\n",
            "Requirement already satisfied: urllib3>=1.26.18 in /usr/local/lib/python3.11/dist-packages (from -r ./requirements.txt (line 51)) (2.3.0)\n",
            "Requirement already satisfied: validate-pyproject>=0.16 in /usr/local/lib/python3.11/dist-packages (from -r ./requirements.txt (line 52)) (0.23)\n",
            "Requirement already satisfied: wheel>=0.43.0 in /usr/local/lib/python3.11/dist-packages (from -r ./requirements.txt (line 53)) (0.45.1)\n",
            "Requirement already satisfied: tk>=0.1.0 in /usr/local/lib/python3.11/dist-packages (from -r ./requirements.txt (line 54)) (0.1.0)\n",
            "Requirement already satisfied: pyinstaller>=6.6.0 in /usr/local/lib/python3.11/dist-packages (from -r ./requirements.txt (line 55)) (6.11.1)\n",
            "Requirement already satisfied: piexif>=1.1.2 in /usr/local/lib/python3.11/dist-packages (from -r ./requirements.txt (line 56)) (1.1.3)\n",
            "Requirement already satisfied: backports.tarfile in /usr/local/lib/python3.11/dist-packages (from jaraco.context>=4.3.0->-r ./requirements.txt (line 16)) (1.2.0)\n",
            "Requirement already satisfied: tzdata>=2022.7 in /usr/local/lib/python3.11/dist-packages (from pandas>=1.5.3->-r ./requirements.txt (line 30)) (2024.2)\n",
            "Requirement already satisfied: certifi>=2017.4.17 in /usr/local/lib/python3.11/dist-packages (from requests>=2.31.0->-r ./requirements.txt (line 40)) (2024.12.14)\n",
            "Requirement already satisfied: tcmlib==1.* in /usr/local/lib/python3.11/dist-packages (from TBB>=0.2->-r ./requirements.txt (line 46)) (1.2.0)\n",
            "Requirement already satisfied: altgraph in /usr/local/lib/python3.11/dist-packages (from pyinstaller>=6.6.0->-r ./requirements.txt (line 55)) (0.17.4)\n",
            "Requirement already satisfied: pyinstaller-hooks-contrib>=2024.9 in /usr/local/lib/python3.11/dist-packages (from pyinstaller>=6.6.0->-r ./requirements.txt (line 55)) (2025.0)\n",
            "Requirement already satisfied: torch>=2.3.0 in /usr/local/lib/python3.11/dist-packages (from -r ./requirements-torch.txt (line 1)) (2.5.1+cu121)\n",
            "Requirement already satisfied: torchvision>=0.18.0 in /usr/local/lib/python3.11/dist-packages (from -r ./requirements-torch.txt (line 2)) (0.20.1+cu121)\n",
            "Requirement already satisfied: filelock in /usr/local/lib/python3.11/dist-packages (from torch>=2.3.0->-r ./requirements-torch.txt (line 1)) (3.16.1)\n",
            "Requirement already satisfied: typing-extensions>=4.8.0 in /usr/local/lib/python3.11/dist-packages (from torch>=2.3.0->-r ./requirements-torch.txt (line 1)) (4.12.2)\n",
            "Requirement already satisfied: networkx in /usr/local/lib/python3.11/dist-packages (from torch>=2.3.0->-r ./requirements-torch.txt (line 1)) (3.4.2)\n",
            "Requirement already satisfied: jinja2 in /usr/local/lib/python3.11/dist-packages (from torch>=2.3.0->-r ./requirements-torch.txt (line 1)) (3.1.5)\n",
            "Requirement already satisfied: fsspec in /usr/local/lib/python3.11/dist-packages (from torch>=2.3.0->-r ./requirements-torch.txt (line 1)) (2024.10.0)\n",
            "Requirement already satisfied: nvidia-cuda-nvrtc-cu12==12.1.105 in /usr/local/lib/python3.11/dist-packages (from torch>=2.3.0->-r ./requirements-torch.txt (line 1)) (12.1.105)\n",
            "Requirement already satisfied: nvidia-cuda-runtime-cu12==12.1.105 in /usr/local/lib/python3.11/dist-packages (from torch>=2.3.0->-r ./requirements-torch.txt (line 1)) (12.1.105)\n",
            "Requirement already satisfied: nvidia-cuda-cupti-cu12==12.1.105 in /usr/local/lib/python3.11/dist-packages (from torch>=2.3.0->-r ./requirements-torch.txt (line 1)) (12.1.105)\n",
            "Requirement already satisfied: nvidia-cudnn-cu12==9.1.0.70 in /usr/local/lib/python3.11/dist-packages (from torch>=2.3.0->-r ./requirements-torch.txt (line 1)) (9.1.0.70)\n",
            "Requirement already satisfied: nvidia-cublas-cu12==12.1.3.1 in /usr/local/lib/python3.11/dist-packages (from torch>=2.3.0->-r ./requirements-torch.txt (line 1)) (12.1.3.1)\n",
            "Requirement already satisfied: nvidia-cufft-cu12==11.0.2.54 in /usr/local/lib/python3.11/dist-packages (from torch>=2.3.0->-r ./requirements-torch.txt (line 1)) (11.0.2.54)\n",
            "Requirement already satisfied: nvidia-curand-cu12==10.3.2.106 in /usr/local/lib/python3.11/dist-packages (from torch>=2.3.0->-r ./requirements-torch.txt (line 1)) (10.3.2.106)\n",
            "Requirement already satisfied: nvidia-cusolver-cu12==11.4.5.107 in /usr/local/lib/python3.11/dist-packages (from torch>=2.3.0->-r ./requirements-torch.txt (line 1)) (11.4.5.107)\n",
            "Requirement already satisfied: nvidia-cusparse-cu12==12.1.0.106 in /usr/local/lib/python3.11/dist-packages (from torch>=2.3.0->-r ./requirements-torch.txt (line 1)) (12.1.0.106)\n",
            "Requirement already satisfied: nvidia-nccl-cu12==2.21.5 in /usr/local/lib/python3.11/dist-packages (from torch>=2.3.0->-r ./requirements-torch.txt (line 1)) (2.21.5)\n",
            "Requirement already satisfied: nvidia-nvtx-cu12==12.1.105 in /usr/local/lib/python3.11/dist-packages (from torch>=2.3.0->-r ./requirements-torch.txt (line 1)) (12.1.105)\n",
            "Requirement already satisfied: triton==3.1.0 in /usr/local/lib/python3.11/dist-packages (from torch>=2.3.0->-r ./requirements-torch.txt (line 1)) (3.1.0)\n",
            "Requirement already satisfied: sympy==1.13.1 in /usr/local/lib/python3.11/dist-packages (from torch>=2.3.0->-r ./requirements-torch.txt (line 1)) (1.13.1)\n",
            "Requirement already satisfied: nvidia-nvjitlink-cu12 in /usr/local/lib/python3.11/dist-packages (from nvidia-cusolver-cu12==11.4.5.107->torch>=2.3.0->-r ./requirements-torch.txt (line 1)) (12.6.85)\n",
            "Requirement already satisfied: mpmath<1.4,>=1.1.0 in /usr/local/lib/python3.11/dist-packages (from sympy==1.13.1->torch>=2.3.0->-r ./requirements-torch.txt (line 1)) (1.3.0)\n",
            "Requirement already satisfied: numpy in /usr/local/lib/python3.11/dist-packages (from torchvision>=0.18.0->-r ./requirements-torch.txt (line 2)) (1.26.4)\n",
            "Requirement already satisfied: pillow!=8.3.*,>=5.3.0 in /usr/local/lib/python3.11/dist-packages (from torchvision>=0.18.0->-r ./requirements-torch.txt (line 2)) (11.1.0)\n",
            "Requirement already satisfied: MarkupSafe>=2.0 in /usr/local/lib/python3.11/dist-packages (from jinja2->torch>=2.3.0->-r ./requirements-torch.txt (line 1)) (3.0.2)\n",
            "--2025-01-16 18:10:13--  https://dl.fbaipublicfiles.com/segment_anything/sam_vit_h_4b8939.pth\n",
            "Resolving dl.fbaipublicfiles.com (dl.fbaipublicfiles.com)... 13.35.238.71, 13.35.238.113, 13.35.238.103, ...\n",
            "Connecting to dl.fbaipublicfiles.com (dl.fbaipublicfiles.com)|13.35.238.71|:443... connected.\n",
            "HTTP request sent, awaiting response... 200 OK\n",
            "Length: 2564550879 (2.4G) [binary/octet-stream]\n",
            "Saving to: ‘sam_vit_h_4b8939.pth’\n",
            "\n",
            "sam_vit_h_4b8939.pt 100%[===================>]   2.39G   181MB/s    in 14s     \n",
            "\n",
            "2025-01-16 18:10:26 (177 MB/s) - ‘sam_vit_h_4b8939.pth’ saved [2564550879/2564550879]\n",
            "\n"
          ]
        }
      ]
    },
    {
      "cell_type": "code",
      "execution_count": 2,
      "id": "e9ac6cca-bc50-4a61-b4a5-3ff45540804c",
      "metadata": {
        "id": "e9ac6cca-bc50-4a61-b4a5-3ff45540804c",
        "outputId": "94bf63c3-3409-474c-e65b-8d89405bdf91",
        "colab": {
          "base_uri": "https://localhost:8080/"
        }
      },
      "outputs": [
        {
          "output_type": "stream",
          "name": "stdout",
          "text": [
            "/content/qr\n"
          ]
        }
      ],
      "source": [
        "%cd /content/qr\n",
        "\n",
        "import main as quadrantrecon\n",
        "import os\n",
        "\n",
        "# Load default arguments\n",
        "qr = quadrantrecon.QuadrantRecon()"
      ]
    },
    {
      "cell_type": "code",
      "execution_count": 9,
      "id": "c87a4769-f02c-44b8-9ef6-fdc80146f4b2",
      "metadata": {
        "id": "c87a4769-f02c-44b8-9ef6-fdc80146f4b2"
      },
      "outputs": [],
      "source": [
        "# Set options (defaults are commented out)\n",
        "qr.output_path = \"cropped_images/\"\n",
        "qr.verbose = True\n",
        "qr.plot = False\n",
        "qr.force = True\n",
        "#qr.dry_run = False\n",
        "#qr.device = \"cuda\"\n",
        "qr.model_path = \"sam_vit_h_4b8939.pth\"\n",
        "#qr.model_type = \"vit_h\"\n",
        "#qr.width = 1700\n",
        "#qr.height = 1700\n",
        "#qr.padding_width = 45\n",
        "#qr.padding_height = 45\n",
        "\n",
        "# Set files or folders to process\n",
        "qr.filename = [\n",
        "    \"/content/drive/MyDrive/punta-Buenos-Aires/\"\n",
        "]"
      ]
    },
    {
      "cell_type": "code",
      "execution_count": 4,
      "id": "9b8c3a52-d657-4f07-bff3-023c7345254e",
      "metadata": {
        "id": "9b8c3a52-d657-4f07-bff3-023c7345254e",
        "outputId": "d9550d1b-e392-4167-b465-6b3f642bdd87",
        "colab": {
          "base_uri": "https://localhost:8080/"
        }
      },
      "outputs": [
        {
          "output_type": "stream",
          "name": "stdout",
          "text": [
            "Loading model...\n"
          ]
        },
        {
          "output_type": "stream",
          "name": "stderr",
          "text": [
            "/content/qr/sam/segment_anything/build_sam.py:105: FutureWarning: You are using `torch.load` with `weights_only=False` (the current default value), which uses the default pickle module implicitly. It is possible to construct malicious pickle data which will execute arbitrary code during unpickling (See https://github.com/pytorch/pytorch/blob/main/SECURITY.md#untrusted-models for more details). In a future release, the default value for `weights_only` will be flipped to `True`. This limits the functions that could be executed during unpickling. Arbitrary objects will no longer be allowed to be loaded via this mode unless they are explicitly allowlisted by the user via `torch.serialization.add_safe_globals`. We recommend you start setting `weights_only=True` for any use case where you don't have full control of the loaded file. Please open an issue on GitHub for any issues related to this experimental feature.\n",
            "  state_dict = torch.load(f)\n"
          ]
        },
        {
          "output_type": "stream",
          "name": "stdout",
          "text": [
            "Model loaded.\n",
            "Creating predictor...\n"
          ]
        }
      ],
      "source": [
        "# Load model into the GPU\n",
        "qr.create_predictor()"
      ]
    },
    {
      "cell_type": "code",
      "source": [
        "bad_files = []\n",
        "\n",
        "results = qr.main()\n",
        "\n",
        "process_c = len(results)\n",
        "\n",
        "for r in results:\n",
        "  if r.failed:\n",
        "    bad_files.append(r)\n",
        "\n",
        "print(f\"Processed {process_c} files correctly. Detected errors on {len(bad_files)} files.\")"
      ],
      "metadata": {
        "id": "3hJXdzQNG-_Y",
        "outputId": "0b5adb7c-dbaf-4491-b230-cc2c4a2b66cf",
        "colab": {
          "base_uri": "https://localhost:8080/"
        }
      },
      "id": "3hJXdzQNG-_Y",
      "execution_count": null,
      "outputs": [
        {
          "output_type": "stream",
          "name": "stdout",
          "text": [
            "Loading model...\n",
            "Model loaded.\n",
            "Creating predictor...\n"
          ]
        },
        {
          "output_type": "stream",
          "name": "stderr",
          "text": [
            "  2%|▏         | 25/1148 [00:33<23:17,  1.24s/it]"
          ]
        }
      ]
    }
  ],
  "metadata": {
    "kernelspec": {
      "display_name": "quadrantrecon",
      "language": "python",
      "name": "quadrantrecon"
    },
    "language_info": {
      "codemirror_mode": {
        "name": "ipython",
        "version": 3
      },
      "file_extension": ".py",
      "mimetype": "text/x-python",
      "name": "python",
      "nbconvert_exporter": "python",
      "pygments_lexer": "ipython3",
      "version": "3.12.3"
    },
    "colab": {
      "provenance": [],
      "gpuType": "T4"
    },
    "accelerator": "GPU"
  },
  "nbformat": 4,
  "nbformat_minor": 5
}