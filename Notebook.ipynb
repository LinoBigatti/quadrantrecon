{
 "cells": [
  {
   "cell_type": "code",
   "execution_count": 1,
   "id": "e9ac6cca-bc50-4a61-b4a5-3ff45540804c",
   "metadata": {},
   "outputs": [
    {
     "data": {
      "text/plain": [
       "<main.QuadrantRecon at 0x795ccc9a9ca0>"
      ]
     },
     "execution_count": 1,
     "metadata": {},
     "output_type": "execute_result"
    }
   ],
   "source": [
    "import main as quadrantrecon\n",
    "\n",
    "# Load default arguments\n",
    "qr = quadrantrecon.QuadrantRecon()",
   ]
  },
  {
   "cell_type": "code",
   "execution_count": 2,
   "id": "c87a4769-f02c-44b8-9ef6-fdc80146f4b2",
   "metadata": {},
   "outputs": [],
   "source": [
    "# Set options (defaults are commented out)\n",
    "qr.verbose = True\n",
    "qr.plot = True\n",
    "qr.dry_run = True\n",
    "qr.device = \"cpu\"\n",
    "#qr.model_path = \"sam_vit_h.pth\"\n",
    "#qr.model_type = \"vit_h\"\n",
    "#qr.image_width = 4000\n",
    "#qr.image_height = 3000\n",
    "#qr.cropped_width = 1700\n",
    "#qr.cropped_height = 1700\n",
    "\n",
    "# Set files to process\n",
    "files = [\n",
    "    \"test_data/AMP50049.JPG\",\n",
    "]"
   ]
  },
  {
   "cell_type": "code",
   "execution_count": 3,
   "id": "9b8c3a52-d657-4f07-bff3-023c7345254e",
   "metadata": {},
   "outputs": [
    {
     "name": "stdout",
     "output_type": "stream",
     "text": [
      "Loading model...\n",
      "Model loaded.\n",
      "Creating predictor...\n",
      "Loading image from path test_data/AMP50049.JPG...\n",
      "Image loaded.\n",
      "Setting predictor image...\n",
      "Predictor loaded\n",
      "Plotting loaded image...\n",
      "Predicting...\n",
      "[0.767809   0.82780945 0.8557178 ]\n",
      "Plotting prediction...\n",
      "Searching for inner bounding box...\n",
      "Plotting detected corners and inner contour...\n",
      "Plotting inner bounding box for predicted mask...\n"
     ]
    }
   ],
   "source": [
    "qr.create_predictor()\n",
    "\n",
    "for filename in files:\n",
    "    mask = qr.process_image(filename)"
   ]
  },
  {
   "cell_type": "code",
   "execution_count": null,
   "id": "650f417b-cefa-4aab-b1c1-64a2a4ab9426",
   "metadata": {},
   "outputs": [],
   "source": []
  }
 ],
 "metadata": {
  "kernelspec": {
   "display_name": "quadrantrecon",
   "language": "python",
   "name": "quadrantrecon"
  },
  "language_info": {
   "codemirror_mode": {
    "name": "ipython",
    "version": 3
   },
   "file_extension": ".py",
   "mimetype": "text/x-python",
   "name": "python",
   "nbconvert_exporter": "python",
   "pygments_lexer": "ipython3",
   "version": "3.12.3"
  }
 },
 "nbformat": 4,
 "nbformat_minor": 5
}
